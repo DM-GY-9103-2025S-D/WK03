{
 "cells": [
  {
   "cell_type": "code",
   "execution_count": null,
   "metadata": {},
   "outputs": [],
   "source": [
    "import torch\n",
    "from transformers import pipeline"
   ]
  },
  {
   "cell_type": "code",
   "execution_count": null,
   "metadata": {},
   "outputs": [],
   "source": [
    "MODEL_NAME = \"joeddav/distilbert-base-uncased-go-emotions-student\"\n",
    "\n",
    "PHRASES = [\n",
    "  \"What a wonderful day\",\n",
    "  \"OMG my head hurts\",\n",
    "  \"What am I doing here?\"\n",
    "]"
   ]
  },
  {
   "cell_type": "code",
   "execution_count": null,
   "metadata": {},
   "outputs": [],
   "source": [
    "def sort_by_score(scores):\n",
    "  return sorted(scores, key=lambda A: A[\"score\"], reverse=True)\n",
    "\n",
    "pipe = pipeline(\n",
    "  \"sentiment-analysis\",\n",
    "  model=MODEL_NAME,\n",
    "  torch_dtype=torch.bfloat16,\n",
    "  return_all_scores=True\n",
    ")\n",
    "\n",
    "\n",
    "for p in PHRASES:\n",
    "  print(p)\n",
    "  scores = pipe(p)[0]\n",
    "  display(sort_by_score(scores)[:3])"
   ]
  }
 ],
 "metadata": {
  "language_info": {
   "name": "python"
  }
 },
 "nbformat": 4,
 "nbformat_minor": 2
}
